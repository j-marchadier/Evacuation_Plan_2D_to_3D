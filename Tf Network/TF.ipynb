{
 "cells": [
  {
   "cell_type": "code",
   "execution_count": 40,
   "metadata": {
    "collapsed": true
   },
   "outputs": [],
   "source": [
    "import numpy as np\n",
    "import matplotlib.pyplot as plt\n",
    "import os\n",
    "import cv2\n",
    "import keras\n",
    "import sklearn\n",
    "import pickle\n",
    "\n",
    "from keras import utils, layers, models, optimizers"
   ]
  },
  {
   "cell_type": "code",
   "execution_count": 7,
   "outputs": [],
   "source": [
    "def list_images(basePath, validExts=(\".jpg\", \".jpeg\", \".png\", \".bmp\", \".tif\", \".tiff\"), contains=None):\n",
    "\n",
    "    imagePaths = []\n",
    "\n",
    "    # loop over the directory structure\n",
    "    for (rootDir, dirNames, filenames) in os.walk(basePath):\n",
    "        # loop over the filenames in the current directory\n",
    "        for filename in filenames:\n",
    "            # if the contains string is not none and the filename does not contain\n",
    "            # the supplied string, then ignore the file\n",
    "            if contains is not None and filename.find(contains) == -1:\n",
    "                continue\n",
    "\n",
    "            # determine the file extension of the current file\n",
    "            ext = filename[filename.rfind(\".\"):].lower()\n",
    "\n",
    "            # check to see if the file is an image and should be processed\n",
    "            if ext.endswith(validExts):\n",
    "                # construct the path to the image and yield it\n",
    "                imagePath = os.path.join(rootDir, filename).replace(\" \", \"\\\\ \")\n",
    "                imagePaths.append(imagePath)\n",
    "\n",
    "    return imagePaths"
   ],
   "metadata": {
    "collapsed": false,
    "pycharm": {
     "name": "#%%\n"
    }
   }
  },
  {
   "cell_type": "markdown",
   "source": [
    "Import data"
   ],
   "metadata": {
    "collapsed": false
   }
  },
  {
   "cell_type": "code",
   "execution_count": 47,
   "outputs": [
    {
     "name": "stdout",
     "output_type": "stream",
     "text": [
      "19\n"
     ]
    }
   ],
   "source": [
    "imagePaths = list_images(\"data\")\n",
    "labels = []\n",
    "logos = []\n",
    "#Boucle qui stocke tous les visages dans data_faces et les noms dans labels\n",
    "for im in imagePaths :\n",
    "\n",
    "    image = cv2.imread(im)\n",
    "    image = cv2.cvtColor(image, cv2.COLOR_BGR2RGB)\n",
    "    if len(imagePaths)>0 :\n",
    "        logos.append(image)\n",
    "        if 'BT' in im :\n",
    "            labels.append([1,0,0,0,0,0])\n",
    "        elif 'exit' in im :\n",
    "            labels.append([0,1,0,0,0,0])\n",
    "        elif 'extincteur' in im :\n",
    "            labels.append([0,0,1,0,0,0])\n",
    "        elif 'incendie' in im :\n",
    "            labels.append([0,0,0,1,0,0])\n",
    "        elif 'porte' in im :\n",
    "            labels.append([0,0,0,0,1,0])\n",
    "        else :\n",
    "            labels.append([0,0,0,0,0,1])\n",
    "\n",
    "print(len(labels))\n",
    "data_dictionaire = (logos,labels)\n",
    "pickle.dump(data_dictionaire, open(\"data.p\",\"wb\"))"
   ],
   "metadata": {
    "collapsed": false,
    "pycharm": {
     "name": "#%%\n"
    }
   }
  },
  {
   "cell_type": "code",
   "execution_count": 48,
   "outputs": [],
   "source": [
    "from sklearn.model_selection import train_test_split\n",
    "\n",
    "#Récupere les données de \"data.p\"\n",
    "logos , labels = pickle.load(open(\"data.p\",'rb'))\n",
    "\n",
    "#Normalise les visages et les labels\n",
    "logos = np.array(logos,dtype=object) / 255\n",
    "labels = np.array(labels).astype('float32')\n",
    "\n",
    "#Sépare les données en test et validation\n",
    "train_images, test_images, train_labels, test_labels  = train_test_split(logos,labels,train_size=0.7, test_size=0.30)"
   ],
   "metadata": {
    "collapsed": false,
    "pycharm": {
     "name": "#%%\n"
    }
   }
  },
  {
   "cell_type": "markdown",
   "source": [
    "Model"
   ],
   "metadata": {
    "collapsed": false
   }
  },
  {
   "cell_type": "code",
   "execution_count": null,
   "outputs": [
    {
     "name": "stdout",
     "output_type": "stream",
     "text": [
      "Train on 13 samples, validate on 6 samples\n",
      "Epoch 1/50\n",
      "13/13 [==============================] - 2s 138ms/step - loss: 0.5153 - acc: 0.8077 - val_loss: 0.4831 - val_acc: 0.8333\n",
      "Epoch 2/50\n",
      "13/13 [==============================] - 1s 55ms/step - loss: 0.4344 - acc: 0.8333 - val_loss: 0.4251 - val_acc: 0.8333\n",
      "Epoch 3/50\n",
      "13/13 [==============================] - 1s 56ms/step - loss: 0.3939 - acc: 0.8462 - val_loss: 0.4260 - val_acc: 0.8611\n",
      "Epoch 4/50\n",
      "13/13 [==============================] - 1s 54ms/step - loss: 0.2895 - acc: 0.8718 - val_loss: 0.4982 - val_acc: 0.8611\n",
      "Epoch 5/50\n",
      "13/13 [==============================] - 1s 56ms/step - loss: 0.2947 - acc: 0.8846 - val_loss: 0.6139 - val_acc: 0.7778\n",
      "Epoch 6/50\n",
      "13/13 [==============================] - 1s 55ms/step - loss: 0.3801 - acc: 0.8590 - val_loss: 0.4440 - val_acc: 0.8889\n",
      "Epoch 7/50\n",
      "13/13 [==============================] - 1s 53ms/step - loss: 0.2029 - acc: 0.9231 - val_loss: 0.3962 - val_acc: 0.8611\n",
      "Epoch 8/50\n",
      "13/13 [==============================] - 1s 54ms/step - loss: 0.1858 - acc: 0.9359 - val_loss: 0.4138 - val_acc: 0.7778\n",
      "Epoch 9/50\n",
      "13/13 [==============================] - 1s 53ms/step - loss: 0.2057 - acc: 0.9487 - val_loss: 0.3704 - val_acc: 0.7778\n",
      "Epoch 10/50\n",
      "13/13 [==============================] - 1s 52ms/step - loss: 0.1319 - acc: 0.9487 - val_loss: 0.3606 - val_acc: 0.8333\n",
      "Epoch 11/50\n",
      "13/13 [==============================] - 1s 52ms/step - loss: 0.1705 - acc: 0.9359 - val_loss: 0.3321 - val_acc: 0.8889\n",
      "Epoch 12/50\n",
      "13/13 [==============================] - 1s 53ms/step - loss: 0.2657 - acc: 0.8846 - val_loss: 0.3523 - val_acc: 0.8333\n",
      "Epoch 13/50\n",
      "13/13 [==============================] - 1s 53ms/step - loss: 0.2253 - acc: 0.9103 - val_loss: 0.3302 - val_acc: 0.8889\n",
      "Epoch 14/50\n",
      "13/13 [==============================] - 1s 53ms/step - loss: 0.1599 - acc: 0.9487 - val_loss: 0.4202 - val_acc: 0.8611\n",
      "Epoch 15/50\n",
      "13/13 [==============================] - 1s 59ms/step - loss: 0.1884 - acc: 0.9231 - val_loss: 0.3402 - val_acc: 0.8611\n",
      "Epoch 16/50\n",
      "13/13 [==============================] - 1s 54ms/step - loss: 0.1442 - acc: 0.9359 - val_loss: 0.3258 - val_acc: 0.7778\n",
      "Epoch 17/50\n",
      "13/13 [==============================] - 1s 54ms/step - loss: 0.1311 - acc: 0.9487 - val_loss: 0.3087 - val_acc: 0.8056\n",
      "Epoch 18/50\n",
      "13/13 [==============================] - 1s 53ms/step - loss: 0.1651 - acc: 0.9359 - val_loss: 0.3834 - val_acc: 0.7778\n",
      "Epoch 19/50\n",
      "13/13 [==============================] - 1s 53ms/step - loss: 0.1226 - acc: 0.9487 - val_loss: 0.3256 - val_acc: 0.7778\n",
      "Epoch 20/50\n",
      "13/13 [==============================] - 1s 55ms/step - loss: 0.1298 - acc: 0.9359 - val_loss: 0.2788 - val_acc: 0.8333\n",
      "Epoch 21/50\n",
      "13/13 [==============================] - 1s 53ms/step - loss: 0.1650 - acc: 0.9103 - val_loss: 0.2402 - val_acc: 0.8333\n",
      "Epoch 22/50\n",
      "13/13 [==============================] - 1s 53ms/step - loss: 0.0973 - acc: 0.9487 - val_loss: 0.2421 - val_acc: 0.8333\n",
      "Epoch 23/50\n",
      "13/13 [==============================] - 1s 52ms/step - loss: 0.1057 - acc: 0.9359 - val_loss: 0.2555 - val_acc: 0.8333\n",
      "Epoch 24/50\n",
      "13/13 [==============================] - 1s 54ms/step - loss: 0.2028 - acc: 0.8974 - val_loss: 0.2984 - val_acc: 0.8333\n",
      "Epoch 25/50\n",
      "13/13 [==============================] - 1s 53ms/step - loss: 0.2184 - acc: 0.9359 - val_loss: 0.2606 - val_acc: 0.8333\n",
      "Epoch 26/50\n",
      "13/13 [==============================] - 1s 53ms/step - loss: 0.0945 - acc: 0.9487 - val_loss: 0.3435 - val_acc: 0.7778\n",
      "Epoch 27/50\n",
      "13/13 [==============================] - 1s 52ms/step - loss: 0.1684 - acc: 0.9359 - val_loss: 0.2595 - val_acc: 0.8333\n",
      "Epoch 28/50\n",
      "13/13 [==============================] - 1s 53ms/step - loss: 0.1141 - acc: 0.9487 - val_loss: 0.2457 - val_acc: 0.8333\n",
      "Epoch 29/50\n",
      "13/13 [==============================] - 1s 53ms/step - loss: 0.0588 - acc: 0.9615 - val_loss: 0.2934 - val_acc: 0.8333\n",
      "Epoch 30/50\n",
      "13/13 [==============================] - 1s 53ms/step - loss: 0.0755 - acc: 0.9744 - val_loss: 0.2328 - val_acc: 0.8333\n",
      "Epoch 31/50\n",
      "13/13 [==============================] - 1s 52ms/step - loss: 0.1051 - acc: 0.9231 - val_loss: 0.1928 - val_acc: 0.8611\n",
      "Epoch 32/50\n",
      "13/13 [==============================] - 1s 54ms/step - loss: 0.1532 - acc: 0.8846 - val_loss: 0.2336 - val_acc: 0.8889\n",
      "Epoch 33/50\n",
      "13/13 [==============================] - 1s 54ms/step - loss: 0.1386 - acc: 0.9231 - val_loss: 0.1686 - val_acc: 0.8611\n",
      "Epoch 34/50\n",
      "13/13 [==============================] - 1s 54ms/step - loss: 0.0551 - acc: 1.0000 - val_loss: 0.2492 - val_acc: 0.8889\n",
      "Epoch 35/50\n",
      "13/13 [==============================] - 1s 54ms/step - loss: 0.0766 - acc: 0.9744 - val_loss: 0.2565 - val_acc: 0.8889\n",
      "Epoch 36/50\n",
      "13/13 [==============================] - 1s 54ms/step - loss: 0.0741 - acc: 0.9487 - val_loss: 0.2377 - val_acc: 0.8889\n",
      "Epoch 37/50\n",
      "13/13 [==============================] - 1s 54ms/step - loss: 0.1052 - acc: 0.9487 - val_loss: 0.2342 - val_acc: 0.8889\n",
      "Epoch 38/50\n",
      "13/13 [==============================] - 1s 53ms/step - loss: 0.1954 - acc: 0.9231 - val_loss: 0.1686 - val_acc: 0.8889\n",
      "Epoch 39/50\n",
      "13/13 [==============================] - 1s 54ms/step - loss: 0.0564 - acc: 1.0000 - val_loss: 0.1483 - val_acc: 0.8889\n",
      "Epoch 40/50\n",
      "13/13 [==============================] - 1s 53ms/step - loss: 0.1174 - acc: 0.9615 - val_loss: 0.1727 - val_acc: 0.8889\n",
      "Epoch 41/50\n",
      "13/13 [==============================] - 1s 54ms/step - loss: 0.0769 - acc: 0.9744 - val_loss: 0.2490 - val_acc: 0.8889\n",
      "Epoch 42/50\n",
      "13/13 [==============================] - 1s 53ms/step - loss: 0.1123 - acc: 0.9615 - val_loss: 0.3014 - val_acc: 0.8889\n",
      "Epoch 43/50\n",
      "13/13 [==============================] - 1s 53ms/step - loss: 0.0931 - acc: 0.9744 - val_loss: 0.3649 - val_acc: 0.8889\n",
      "Epoch 44/50\n",
      "13/13 [==============================] - 1s 54ms/step - loss: 0.0981 - acc: 0.9487 - val_loss: 0.2268 - val_acc: 0.8889\n",
      "Epoch 45/50\n",
      "12/13 [==========================>...] - ETA: 0s - loss: 0.0641 - acc: 1.0000"
     ]
    }
   ],
   "source": [
    "# Voici le réseau que nous avons décidé d'utiliser dans cet exercice\n",
    "model = models.Sequential()\n",
    "model.add( layers.Conv2D(32, (3, 3), activation='relu', input_shape=(128,128,3)) )\n",
    "model.add( layers.MaxPooling2D((2, 2)) )\n",
    "model.add( layers.Conv2D(64, (3, 3), activation='relu') )\n",
    "model.add( layers.MaxPooling2D((2, 2)) )\n",
    "model.add( layers.Conv2D(64, (3, 3), activation='relu') )\n",
    "model.add( layers.MaxPooling2D((2, 2)) )\n",
    "model.add( layers.Flatten())\n",
    "model.add( layers.Dense(60, activation='relu'))\n",
    "model.add(layers.Dropout(0.5)) # On rajoute un dropout pour éviter l'overfitting\n",
    "model.add(layers.Dense(6, activation='softmax'))\n",
    "model.compile(loss='binary_crossentropy', optimizer='adam', metrics=['acc'])\n",
    "\n",
    "# Entrainement du réseau\n",
    "history = model.fit(train_images,\n",
    "                    train_labels,\n",
    "                    batch_size=3,\n",
    "                    epochs=50,\n",
    "                    validation_data=(test_images,test_labels))"
   ],
   "metadata": {
    "collapsed": false,
    "pycharm": {
     "name": "#%%\n",
     "is_executing": true
    }
   }
  },
  {
   "cell_type": "code",
   "execution_count": null,
   "outputs": [],
   "source": [],
   "metadata": {
    "collapsed": false,
    "pycharm": {
     "name": "#%%\n"
    }
   }
  }
 ],
 "metadata": {
  "kernelspec": {
   "display_name": "Python 3",
   "language": "python",
   "name": "python3"
  },
  "language_info": {
   "codemirror_mode": {
    "name": "ipython",
    "version": 2
   },
   "file_extension": ".py",
   "mimetype": "text/x-python",
   "name": "python",
   "nbconvert_exporter": "python",
   "pygments_lexer": "ipython2",
   "version": "2.7.6"
  }
 },
 "nbformat": 4,
 "nbformat_minor": 0
}